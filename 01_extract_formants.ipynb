{
 "cells": [
  {
   "cell_type": "markdown",
   "metadata": {},
   "source": [
    "# Extract formant measures from .wav file\n",
    "\n",
    "This notebook is adapted from a script by [Isaac Bleaman](https://www.isaacbleaman.com/) and utilizes `parselmouth` to extract formant measures from a .wav file with corresponding TextGrid. To demonstrate the functionality, this notebook uses audio and corresponding phone-aligned TextGrids from four female speakers from the Corpus of Bay Area Spanish (CBAS), reading from a wordlist and participating in a sociolinguistic interview.\n",
    "\n",
    "Since the audio files are in Spanish, we can use regular expressions to isolate labels of a, e, o, i, and u. For English data, with transcriptions generated from the CMU pronunciation dictionary (where vowels are labels with numbers to indicate stress), we can substitute the regular expression <pre>r'\\d+$'</pre>"
   ]
  },
  {
   "cell_type": "code",
   "execution_count": 1,
   "metadata": {},
   "outputs": [],
   "source": [
    "# pip install praat-parselmouth"
   ]
  },
  {
   "cell_type": "code",
   "execution_count": 2,
   "metadata": {},
   "outputs": [],
   "source": [
    "import parselmouth\n",
    "from parselmouth.praat import call\n",
    "import os\n",
    "import re\n",
    "import pandas as pd"
   ]
  },
  {
   "cell_type": "code",
   "execution_count": 3,
   "metadata": {},
   "outputs": [],
   "source": [
    "# directory of TextGrids\n",
    "tg_path = 'data/'\n",
    "# directory of wav files\n",
    "wav_path = 'data/'\n",
    "# directory to save vowel measurement data\n",
    "data_path = 'data/'\n",
    "\n",
    "\n",
    "# names of tiers with phonemes of interest\n",
    "phones_tiers = ['phones']\n",
    "\n",
    "# formant analysis parameters\n",
    "time_step = 0.1\n",
    "maximum_number_of_formants = 5\n",
    "maximum_formant = 5500 # Hz\n",
    "window_length = 0.025 # seconds\n",
    "preemphasis_from = 50\n",
    "\n",
    "# take formant measurements every X seconds?\n",
    "segment_window = 0.005 # 5 milliseconds"
   ]
  },
  {
   "cell_type": "code",
   "execution_count": 4,
   "metadata": {
    "scrolled": true
   },
   "outputs": [
    {
     "name": "stdout",
     "output_type": "stream",
     "text": [
      "1 Processing file p113_int.wav\n",
      "2 Processing file p113_wd.wav\n",
      "3 Processing file p115_int.wav\n",
      "4 Processing file p115_wd.wav\n",
      "5 Processing file p120_int.wav\n",
      "6 Processing file p120_wd.wav\n",
      "7 Processing file p124_int.wav\n",
      "8 Processing file p124_wd.wav\n",
      "Done\n"
     ]
    }
   ],
   "source": [
    "# list (of dictionaries) to save results to\n",
    "data = []\n",
    "\n",
    "# counter to keep track of how long this script takes to run\n",
    "file_counter = 1\n",
    "\n",
    "for file in os.listdir(wav_path):\n",
    "    if file.endswith('.wav'):\n",
    "        \n",
    "        # Check if corresponding TextGrid exists\n",
    "        if os.path.exists(tg_path + file[:-4] + '.TextGrid'):\n",
    "            \n",
    "            # Print out which file we're currently working on\n",
    "            print(file_counter, 'Processing file', file)\n",
    "            file_counter += 1\n",
    "            \n",
    "            # Create sound object\n",
    "            wav = parselmouth.Sound(wav_path + file)\n",
    "            \n",
    "            # Create formant object\n",
    "            formant = wav.to_formant_burg(time_step, maximum_number_of_formants, maximum_formant, window_length, preemphasis_from)\n",
    "            \n",
    "            # Open textgrid\n",
    "            tg = parselmouth.Data.read(tg_path + file[:-4] + '.TextGrid')\n",
    "            \n",
    "            # Iterate over the tiers and find the ones w/ phonemes\n",
    "            numTiers = call(tg, 'Get number of tiers')\n",
    "            for tierIdx in range(1, numTiers + 1): # Praat counts from 1, not 0\n",
    "                tierName = call(tg, 'Get tier name', tierIdx)\n",
    "                \n",
    "                if tierName in phones_tiers:\n",
    "                    numIntervals = call(tg, 'Get number of intervals', tierIdx)\n",
    "                    \n",
    "                    for intervalIdx in range(1, numIntervals + 1):\n",
    "                        label = call(tg, 'Get label of interval', tierIdx, intervalIdx)\n",
    "                        \n",
    "                        # check if interval label is a vowel,\n",
    "                        # i.e., it is not blank, and it is a, e, i, o or u (or with +), also glides j and w\n",
    "                        if label and re.search(r'^[a,e,i,o,u,j,w]\\+?', label):\n",
    "                            start = call(tg, 'Get starting point', tierIdx, intervalIdx)\n",
    "                            end = call(tg, 'Get end point', tierIdx, intervalIdx)\n",
    "                            dur = end - start\n",
    "                            \n",
    "                            word_tier_idx = 1\n",
    "                            midpoint = (end + start)/2\n",
    "                            word_interval = call(tg, 'Get interval at time', word_tier_idx, midpoint)\n",
    "                            word = call(tg, 'Get label of interval', word_tier_idx, word_interval)        \n",
    "                            \n",
    "                            # number of X millisecond segments to take measurements from\n",
    "                            numSegments = int(dur / segment_window) # note: this must be an integer\n",
    "                            \n",
    "                            # loop over segments and calculate F1/F2\n",
    "                            for segmentIdx in range(1, numSegments + 1):\n",
    "                                spot = start + (segmentIdx * segment_window)\n",
    "                                tim_int = spot - start\n",
    "                                \n",
    "                                f1 = call(formant, 'Get value at time', 1, spot, 'Hertz', 'Linear')\n",
    "                                f2 = call(formant, 'Get value at time', 2, spot, 'Hertz', 'Linear')\n",
    "                                \n",
    "                                # add to our data set\n",
    "                                data.append({'Video ID': file[:-4],\n",
    "                                             'Vowel': label[0], # removes + from vowel\n",
    "                                             'Vowel_onset_time': start,\n",
    "                                             'Time_of_formant_measurements': spot,\n",
    "                                             'Time_from_vowel_onset': tim_int,\n",
    "                                             'F1': f1,\n",
    "                                             'F2': f2,\n",
    "                                             'Participant': file[:4], \n",
    "                                             'Task': file[5:-4],\n",
    "                                             'Word': word if word else 'PROBLEM',\n",
    "                                            })\n",
    "        \n",
    "print('Done')"
   ]
  },
  {
   "cell_type": "code",
   "execution_count": 5,
   "metadata": {},
   "outputs": [
    {
     "data": {
      "text/plain": [
       "{'Video ID': 'p113_int',\n",
       " 'Vowel': 'o',\n",
       " 'Vowel_onset_time': 0.19,\n",
       " 'Time_of_formant_measurements': 0.195,\n",
       " 'Time_from_vowel_onset': 0.0050000000000000044,\n",
       " 'F1': 438.50735691139005,\n",
       " 'F2': 1371.7079676448034,\n",
       " 'Participant': 'p113',\n",
       " 'Task': 'int',\n",
       " 'Word': 'no'}"
      ]
     },
     "execution_count": 5,
     "metadata": {},
     "output_type": "execute_result"
    }
   ],
   "source": [
    "# Preview the data\n",
    "data[0]"
   ]
  },
  {
   "cell_type": "code",
   "execution_count": 6,
   "metadata": {},
   "outputs": [
    {
     "data": {
      "text/plain": [
       "115522"
      ]
     },
     "execution_count": 6,
     "metadata": {},
     "output_type": "execute_result"
    }
   ],
   "source": [
    "len(data)"
   ]
  },
  {
   "cell_type": "code",
   "execution_count": 7,
   "metadata": {},
   "outputs": [
    {
     "data": {
      "text/html": [
       "<div>\n",
       "<style scoped>\n",
       "    .dataframe tbody tr th:only-of-type {\n",
       "        vertical-align: middle;\n",
       "    }\n",
       "\n",
       "    .dataframe tbody tr th {\n",
       "        vertical-align: top;\n",
       "    }\n",
       "\n",
       "    .dataframe thead th {\n",
       "        text-align: right;\n",
       "    }\n",
       "</style>\n",
       "<table border=\"1\" class=\"dataframe\">\n",
       "  <thead>\n",
       "    <tr style=\"text-align: right;\">\n",
       "      <th></th>\n",
       "      <th>Video ID</th>\n",
       "      <th>Vowel</th>\n",
       "      <th>Vowel_onset_time</th>\n",
       "      <th>Time_of_formant_measurements</th>\n",
       "      <th>Time_from_vowel_onset</th>\n",
       "      <th>F1</th>\n",
       "      <th>F2</th>\n",
       "      <th>Participant</th>\n",
       "      <th>Task</th>\n",
       "      <th>Word</th>\n",
       "    </tr>\n",
       "  </thead>\n",
       "  <tbody>\n",
       "    <tr>\n",
       "      <th>0</th>\n",
       "      <td>p113_int</td>\n",
       "      <td>o</td>\n",
       "      <td>0.19</td>\n",
       "      <td>0.195</td>\n",
       "      <td>0.005</td>\n",
       "      <td>438.507357</td>\n",
       "      <td>1371.707968</td>\n",
       "      <td>p113</td>\n",
       "      <td>int</td>\n",
       "      <td>no</td>\n",
       "    </tr>\n",
       "    <tr>\n",
       "      <th>1</th>\n",
       "      <td>p113_int</td>\n",
       "      <td>o</td>\n",
       "      <td>0.19</td>\n",
       "      <td>0.200</td>\n",
       "      <td>0.010</td>\n",
       "      <td>438.708664</td>\n",
       "      <td>1345.533822</td>\n",
       "      <td>p113</td>\n",
       "      <td>int</td>\n",
       "      <td>no</td>\n",
       "    </tr>\n",
       "    <tr>\n",
       "      <th>2</th>\n",
       "      <td>p113_int</td>\n",
       "      <td>o</td>\n",
       "      <td>0.19</td>\n",
       "      <td>0.205</td>\n",
       "      <td>0.015</td>\n",
       "      <td>438.909970</td>\n",
       "      <td>1319.359676</td>\n",
       "      <td>p113</td>\n",
       "      <td>int</td>\n",
       "      <td>no</td>\n",
       "    </tr>\n",
       "    <tr>\n",
       "      <th>3</th>\n",
       "      <td>p113_int</td>\n",
       "      <td>o</td>\n",
       "      <td>0.19</td>\n",
       "      <td>0.210</td>\n",
       "      <td>0.020</td>\n",
       "      <td>439.111277</td>\n",
       "      <td>1293.185530</td>\n",
       "      <td>p113</td>\n",
       "      <td>int</td>\n",
       "      <td>no</td>\n",
       "    </tr>\n",
       "    <tr>\n",
       "      <th>4</th>\n",
       "      <td>p113_int</td>\n",
       "      <td>o</td>\n",
       "      <td>0.19</td>\n",
       "      <td>0.215</td>\n",
       "      <td>0.025</td>\n",
       "      <td>439.312583</td>\n",
       "      <td>1267.011384</td>\n",
       "      <td>p113</td>\n",
       "      <td>int</td>\n",
       "      <td>no</td>\n",
       "    </tr>\n",
       "  </tbody>\n",
       "</table>\n",
       "</div>"
      ],
      "text/plain": [
       "   Video ID Vowel  Vowel_onset_time  Time_of_formant_measurements  \\\n",
       "0  p113_int     o              0.19                         0.195   \n",
       "1  p113_int     o              0.19                         0.200   \n",
       "2  p113_int     o              0.19                         0.205   \n",
       "3  p113_int     o              0.19                         0.210   \n",
       "4  p113_int     o              0.19                         0.215   \n",
       "\n",
       "   Time_from_vowel_onset          F1           F2 Participant Task Word  \n",
       "0                  0.005  438.507357  1371.707968        p113  int   no  \n",
       "1                  0.010  438.708664  1345.533822        p113  int   no  \n",
       "2                  0.015  438.909970  1319.359676        p113  int   no  \n",
       "3                  0.020  439.111277  1293.185530        p113  int   no  \n",
       "4                  0.025  439.312583  1267.011384        p113  int   no  "
      ]
     },
     "execution_count": 7,
     "metadata": {},
     "output_type": "execute_result"
    }
   ],
   "source": [
    "formants = pd.DataFrame.from_dict(data, \"columns\")\n",
    "formants.head()"
   ]
  },
  {
   "cell_type": "code",
   "execution_count": 8,
   "metadata": {},
   "outputs": [],
   "source": [
    "formants.to_csv(\"data/formants.csv\", index = False)"
   ]
  },
  {
   "cell_type": "code",
   "execution_count": null,
   "metadata": {},
   "outputs": [],
   "source": []
  }
 ],
 "metadata": {
  "kernelspec": {
   "display_name": "Python 3",
   "language": "python",
   "name": "python3"
  },
  "language_info": {
   "codemirror_mode": {
    "name": "ipython",
    "version": 3
   },
   "file_extension": ".py",
   "mimetype": "text/x-python",
   "name": "python",
   "nbconvert_exporter": "python",
   "pygments_lexer": "ipython3",
   "version": "3.7.6"
  }
 },
 "nbformat": 4,
 "nbformat_minor": 4
}
